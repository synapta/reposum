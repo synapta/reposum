{
 "cells": [
  {
   "cell_type": "code",
   "execution_count": 1,
   "metadata": {},
   "outputs": [],
   "source": [
    "from IPython.display import clear_output\n",
    "from spacy import displacy\n",
    "import pandas as pd\n",
    "import spacy\n",
    "\n",
    "fname = \"../data/tesi_US/US_PhD_dissertations.xlsx\"\n",
    "nlp = spacy.load('en_core_web_sm')\n",
    "\n",
    "abstracts = pd.read_excel(fname, usecols=[24])\n",
    "\n",
    "abstracts = abstracts[abstracts[' Abstract '] != \"  Nessun elemento disponibile. \"]\n",
    "abstracts = abstracts[abstracts[' Abstract '] != \"  Abstract Not Available. \"]\n",
    "abstracts = abstracts[abstracts[' Abstract '] != \"  Abstract not available. \"]\n",
    "abstracts = abstracts[abstracts[' Abstract '] != \"  Abstract Not Available \"]\n",
    "abstracts = abstracts[abstracts[' Abstract '] != \"Abstract not available.\"]"
   ]
  },
  {
   "cell_type": "code",
   "execution_count": null,
   "metadata": {
    "scrolled": false
   },
   "outputs": [],
   "source": [
    "for index,row in abstracts.iterrows():\n",
    "    clear_output()\n",
    "    text = row[' Abstract ']\n",
    "    doc = nlp(text)    \n",
    "    displacy.render(doc, style='ent', jupyter=True)\n",
    "    input()"
   ]
  }
 ],
 "metadata": {
  "kernelspec": {
   "display_name": "Python 3",
   "language": "python",
   "name": "python3"
  },
  "language_info": {
   "codemirror_mode": {
    "name": "ipython",
    "version": 3
   },
   "file_extension": ".py",
   "mimetype": "text/x-python",
   "name": "python",
   "nbconvert_exporter": "python",
   "pygments_lexer": "ipython3",
   "version": "3.6.5"
  }
 },
 "nbformat": 4,
 "nbformat_minor": 2
}
